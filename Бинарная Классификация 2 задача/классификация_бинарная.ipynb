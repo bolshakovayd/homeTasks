{
  "nbformat": 4,
  "nbformat_minor": 0,
  "metadata": {
    "colab": {
      "name": "классификация бинарная.ipynb",
      "provenance": []
    },
    "kernelspec": {
      "name": "python3",
      "display_name": "Python 3"
    },
    "language_info": {
      "name": "python"
    }
  },
  "cells": [
    {
      "cell_type": "code",
      "metadata": {
        "id": "qncakWVsQjpq"
      },
      "source": [
        "from sklearn.linear_model import LogisticRegression\n",
        "from sklearn.model_selection import train_test_split,GridSearchCV\n",
        "from sklearn.metrics import f1_score, recall_score, precision_score\n",
        "import matplotlib.pyplot as plt\n",
        "import pandas as pd \n",
        "from sklearn.preprocessing import StandardScaler\n",
        "from sklearn.ensemble import RandomForestClassifier, GradientBoostingClassifier\n",
        "from sklearn.neighbors import KNeighborsClassifier \n",
        "from sklearn.naive_bayes import GaussianNB \n",
        "from sklearn.tree import DecisionTreeClassifier \n",
        "from sklearn.svm import SVC "
      ],
      "execution_count": 18,
      "outputs": []
    },
    {
      "cell_type": "code",
      "metadata": {
        "id": "d9XT0xaeQywK"
      },
      "source": [
        "df= pd.read_csv('crx.data', names=['A1','A2','A3','A4','A5','A6','A7','A8','A9','A10','A11','A12','A13','A14','A15','A16'])"
      ],
      "execution_count": null,
      "outputs": []
    },
    {
      "cell_type": "code",
      "metadata": {
        "id": "ci-AYa6XUiu4"
      },
      "source": [
        "important_cols = ['A2', 'A3', 'A8', 'A14', 'A13','A15','A16']"
      ],
      "execution_count": null,
      "outputs": []
    },
    {
      "cell_type": "code",
      "metadata": {
        "id": "hesWhafnR42I"
      },
      "source": [
        "df = df[important_cols] "
      ],
      "execution_count": null,
      "outputs": []
    },
    {
      "cell_type": "code",
      "metadata": {
        "colab": {
          "base_uri": "https://localhost:8080/",
          "height": 197
        },
        "id": "JGsWC5_YR5uN",
        "outputId": "de9e007d-8ed3-472a-a247-aa4ad7881a55"
      },
      "source": [
        "df.head() "
      ],
      "execution_count": null,
      "outputs": [
        {
          "output_type": "execute_result",
          "data": {
            "text/html": [
              "<div>\n",
              "<style scoped>\n",
              "    .dataframe tbody tr th:only-of-type {\n",
              "        vertical-align: middle;\n",
              "    }\n",
              "\n",
              "    .dataframe tbody tr th {\n",
              "        vertical-align: top;\n",
              "    }\n",
              "\n",
              "    .dataframe thead th {\n",
              "        text-align: right;\n",
              "    }\n",
              "</style>\n",
              "<table border=\"1\" class=\"dataframe\">\n",
              "  <thead>\n",
              "    <tr style=\"text-align: right;\">\n",
              "      <th></th>\n",
              "      <th>A2</th>\n",
              "      <th>A3</th>\n",
              "      <th>A8</th>\n",
              "      <th>A14</th>\n",
              "      <th>A13</th>\n",
              "      <th>A15</th>\n",
              "      <th>A16</th>\n",
              "    </tr>\n",
              "  </thead>\n",
              "  <tbody>\n",
              "    <tr>\n",
              "      <th>0</th>\n",
              "      <td>30.83</td>\n",
              "      <td>0.000</td>\n",
              "      <td>1.25</td>\n",
              "      <td>00202</td>\n",
              "      <td>g</td>\n",
              "      <td>0</td>\n",
              "      <td>+</td>\n",
              "    </tr>\n",
              "    <tr>\n",
              "      <th>1</th>\n",
              "      <td>58.67</td>\n",
              "      <td>4.460</td>\n",
              "      <td>3.04</td>\n",
              "      <td>00043</td>\n",
              "      <td>g</td>\n",
              "      <td>560</td>\n",
              "      <td>+</td>\n",
              "    </tr>\n",
              "    <tr>\n",
              "      <th>2</th>\n",
              "      <td>24.50</td>\n",
              "      <td>0.500</td>\n",
              "      <td>1.50</td>\n",
              "      <td>00280</td>\n",
              "      <td>g</td>\n",
              "      <td>824</td>\n",
              "      <td>+</td>\n",
              "    </tr>\n",
              "    <tr>\n",
              "      <th>3</th>\n",
              "      <td>27.83</td>\n",
              "      <td>1.540</td>\n",
              "      <td>3.75</td>\n",
              "      <td>00100</td>\n",
              "      <td>g</td>\n",
              "      <td>3</td>\n",
              "      <td>+</td>\n",
              "    </tr>\n",
              "    <tr>\n",
              "      <th>4</th>\n",
              "      <td>20.17</td>\n",
              "      <td>5.625</td>\n",
              "      <td>1.71</td>\n",
              "      <td>00120</td>\n",
              "      <td>s</td>\n",
              "      <td>0</td>\n",
              "      <td>+</td>\n",
              "    </tr>\n",
              "  </tbody>\n",
              "</table>\n",
              "</div>"
            ],
            "text/plain": [
              "      A2     A3    A8    A14 A13  A15 A16\n",
              "0  30.83  0.000  1.25  00202   g    0   +\n",
              "1  58.67  4.460  3.04  00043   g  560   +\n",
              "2  24.50  0.500  1.50  00280   g  824   +\n",
              "3  27.83  1.540  3.75  00100   g    3   +\n",
              "4  20.17  5.625  1.71  00120   s    0   +"
            ]
          },
          "metadata": {
            "tags": []
          },
          "execution_count": 5
        }
      ]
    },
    {
      "cell_type": "code",
      "metadata": {
        "id": "dfo_xRnzWjZ8"
      },
      "source": [
        "df = df.query(\"A2 != '?'\") \n",
        "df = df.query(\"A14 != '?'\")"
      ],
      "execution_count": null,
      "outputs": []
    },
    {
      "cell_type": "code",
      "metadata": {
        "id": "hjk1W7AyZnb5"
      },
      "source": [
        "df['A14']= df['A14'].astype(float, errors = 'raise') \n",
        "df['A2']= df['A2'].astype(float, errors = 'raise')"
      ],
      "execution_count": null,
      "outputs": []
    },
    {
      "cell_type": "code",
      "metadata": {
        "id": "mTyH_xEZV8i2"
      },
      "source": [
        "string_cols = df.select_dtypes(['object']).columns\n",
        "df[string_cols] = df[string_cols].astype('category').apply(lambda x: x.cat.codes) "
      ],
      "execution_count": null,
      "outputs": []
    },
    {
      "cell_type": "code",
      "metadata": {
        "colab": {
          "base_uri": "https://localhost:8080/"
        },
        "id": "M6OPlCYzWkq-",
        "outputId": "c3aba3d2-8fac-4d5b-9fc2-0dd460b8c907"
      },
      "source": [
        "df.info()"
      ],
      "execution_count": null,
      "outputs": [
        {
          "output_type": "stream",
          "text": [
            "<class 'pandas.core.frame.DataFrame'>\n",
            "Int64Index: 666 entries, 0 to 689\n",
            "Data columns (total 7 columns):\n",
            " #   Column  Non-Null Count  Dtype  \n",
            "---  ------  --------------  -----  \n",
            " 0   A2      666 non-null    float64\n",
            " 1   A3      666 non-null    float64\n",
            " 2   A8      666 non-null    float64\n",
            " 3   A14     666 non-null    float64\n",
            " 4   A13     666 non-null    int8   \n",
            " 5   A15     666 non-null    int64  \n",
            " 6   A16     666 non-null    int8   \n",
            "dtypes: float64(4), int64(1), int8(2)\n",
            "memory usage: 32.5 KB\n"
          ],
          "name": "stdout"
        }
      ]
    },
    {
      "cell_type": "code",
      "metadata": {
        "colab": {
          "base_uri": "https://localhost:8080/",
          "height": 257
        },
        "id": "vNE-le7FWpaC",
        "outputId": "87863c13-c531-422b-9f84-0c0771f98d66"
      },
      "source": [
        "df.corr()"
      ],
      "execution_count": null,
      "outputs": [
        {
          "output_type": "execute_result",
          "data": {
            "text/html": [
              "<div>\n",
              "<style scoped>\n",
              "    .dataframe tbody tr th:only-of-type {\n",
              "        vertical-align: middle;\n",
              "    }\n",
              "\n",
              "    .dataframe tbody tr th {\n",
              "        vertical-align: top;\n",
              "    }\n",
              "\n",
              "    .dataframe thead th {\n",
              "        text-align: right;\n",
              "    }\n",
              "</style>\n",
              "<table border=\"1\" class=\"dataframe\">\n",
              "  <thead>\n",
              "    <tr style=\"text-align: right;\">\n",
              "      <th></th>\n",
              "      <th>A2</th>\n",
              "      <th>A3</th>\n",
              "      <th>A8</th>\n",
              "      <th>A14</th>\n",
              "      <th>A13</th>\n",
              "      <th>A15</th>\n",
              "      <th>A16</th>\n",
              "    </tr>\n",
              "  </thead>\n",
              "  <tbody>\n",
              "    <tr>\n",
              "      <th>A2</th>\n",
              "      <td>1.000000</td>\n",
              "      <td>0.211249</td>\n",
              "      <td>0.404847</td>\n",
              "      <td>-0.079812</td>\n",
              "      <td>-0.020551</td>\n",
              "      <td>0.027512</td>\n",
              "      <td>-0.163244</td>\n",
              "    </tr>\n",
              "    <tr>\n",
              "      <th>A3</th>\n",
              "      <td>0.211249</td>\n",
              "      <td>1.000000</td>\n",
              "      <td>0.303990</td>\n",
              "      <td>-0.217364</td>\n",
              "      <td>-0.104610</td>\n",
              "      <td>0.120021</td>\n",
              "      <td>-0.213328</td>\n",
              "    </tr>\n",
              "    <tr>\n",
              "      <th>A8</th>\n",
              "      <td>0.404847</td>\n",
              "      <td>0.303990</td>\n",
              "      <td>1.000000</td>\n",
              "      <td>-0.069020</td>\n",
              "      <td>-0.006071</td>\n",
              "      <td>0.053009</td>\n",
              "      <td>-0.335199</td>\n",
              "    </tr>\n",
              "    <tr>\n",
              "      <th>A14</th>\n",
              "      <td>-0.079812</td>\n",
              "      <td>-0.217364</td>\n",
              "      <td>-0.069020</td>\n",
              "      <td>1.000000</td>\n",
              "      <td>0.074236</td>\n",
              "      <td>0.069396</td>\n",
              "      <td>0.092521</td>\n",
              "    </tr>\n",
              "    <tr>\n",
              "      <th>A13</th>\n",
              "      <td>-0.020551</td>\n",
              "      <td>-0.104610</td>\n",
              "      <td>-0.006071</td>\n",
              "      <td>0.074236</td>\n",
              "      <td>1.000000</td>\n",
              "      <td>-0.006163</td>\n",
              "      <td>0.105391</td>\n",
              "    </tr>\n",
              "    <tr>\n",
              "      <th>A15</th>\n",
              "      <td>0.027512</td>\n",
              "      <td>0.120021</td>\n",
              "      <td>0.053009</td>\n",
              "      <td>0.069396</td>\n",
              "      <td>-0.006163</td>\n",
              "      <td>1.000000</td>\n",
              "      <td>-0.172884</td>\n",
              "    </tr>\n",
              "    <tr>\n",
              "      <th>A16</th>\n",
              "      <td>-0.163244</td>\n",
              "      <td>-0.213328</td>\n",
              "      <td>-0.335199</td>\n",
              "      <td>0.092521</td>\n",
              "      <td>0.105391</td>\n",
              "      <td>-0.172884</td>\n",
              "      <td>1.000000</td>\n",
              "    </tr>\n",
              "  </tbody>\n",
              "</table>\n",
              "</div>"
            ],
            "text/plain": [
              "           A2        A3        A8       A14       A13       A15       A16\n",
              "A2   1.000000  0.211249  0.404847 -0.079812 -0.020551  0.027512 -0.163244\n",
              "A3   0.211249  1.000000  0.303990 -0.217364 -0.104610  0.120021 -0.213328\n",
              "A8   0.404847  0.303990  1.000000 -0.069020 -0.006071  0.053009 -0.335199\n",
              "A14 -0.079812 -0.217364 -0.069020  1.000000  0.074236  0.069396  0.092521\n",
              "A13 -0.020551 -0.104610 -0.006071  0.074236  1.000000 -0.006163  0.105391\n",
              "A15  0.027512  0.120021  0.053009  0.069396 -0.006163  1.000000 -0.172884\n",
              "A16 -0.163244 -0.213328 -0.335199  0.092521  0.105391 -0.172884  1.000000"
            ]
          },
          "metadata": {
            "tags": []
          },
          "execution_count": 10
        }
      ]
    },
    {
      "cell_type": "code",
      "metadata": {
        "id": "06QiWl6gaQj_"
      },
      "source": [
        "X_data= df.drop('A16', axis=1) \n",
        "y_data=df['A16'] "
      ],
      "execution_count": null,
      "outputs": []
    },
    {
      "cell_type": "code",
      "metadata": {
        "id": "NrsYx0SdbIQS"
      },
      "source": [
        "standarscal= StandardScaler() \n",
        "X_data = standarscal.fit_transform(X_data)"
      ],
      "execution_count": null,
      "outputs": []
    },
    {
      "cell_type": "code",
      "metadata": {
        "id": "p9axmrj-csaC"
      },
      "source": [
        "X_train, X_test, y_train, y_test = train_test_split(X_data, y_data, test_size=0.2, shuffle=False) "
      ],
      "execution_count": null,
      "outputs": []
    },
    {
      "cell_type": "code",
      "metadata": {
        "id": "9Xihfa7XO6M2"
      },
      "source": [
        "dict_result={} "
      ],
      "execution_count": null,
      "outputs": []
    },
    {
      "cell_type": "markdown",
      "metadata": {
        "id": "dPksi0dhImPr"
      },
      "source": [
        "KNN"
      ]
    },
    {
      "cell_type": "code",
      "metadata": {
        "colab": {
          "base_uri": "https://localhost:8080/",
          "height": 264
        },
        "id": "tXDqN5kbebi9",
        "outputId": "fba075dd-e30e-4088-8162-e9a4d5bfd351"
      },
      "source": [
        "k_range = list(range(1, 26))\n",
        "scores = [] \n",
        "for i in k_range: \n",
        "    knn = KNeighborsClassifier(n_neighbors=i) \n",
        "    knn.fit(X_train, y_train) \n",
        "    y_pred = knn.predict(X_test) \n",
        "    scores.append(f1_score(y_test, y_pred)) \n",
        "plt.plot(k_range, scores) \n",
        "plt.show()"
      ],
      "execution_count": null,
      "outputs": [
        {
          "output_type": "display_data",
          "data": {
            "image/png": "[encoded data removed]",
            "text/plain": [
              "<Figure size 432x288 with 1 Axes>"
            ]
          },
          "metadata": {
            "tags": [],
            "needs_background": "light"
          }
        }
      ]
    },
    {
      "cell_type": "markdown",
      "metadata": {
        "id": "8V7nA6KljRVe"
      },
      "source": [
        "Видим, что лучший результат модель дает при количестве n=3"
      ]
    },
    {
      "cell_type": "code",
      "metadata": {
        "colab": {
          "base_uri": "https://localhost:8080/"
        },
        "id": "rX7vYVrKjabc",
        "outputId": "b069adce-7047-4754-b5ea-9852d445f0f3"
      },
      "source": [
        "knn = KNeighborsClassifier(n_neighbors=3)\n",
        "knn.fit(X_train, y_train)\n",
        "y_pred = knn.predict(X_test)\n",
        "rec = recall_score(y_test, y_pred)\n",
        "f1 = f1_score(y_test, y_pred)\n",
        "precc = precision_score(y_test, y_pred)\n",
        "print('F1 score: ', f1)\n",
        "print('Recall: ', rec)\n",
        "print('precission: ', precc)"
      ],
      "execution_count": 19,
      "outputs": [
        {
          "output_type": "stream",
          "text": [
            "F1 score:  0.760233918128655\n",
            "Recall:  0.7738095238095238\n",
            "precission:  0.7471264367816092\n"
          ],
          "name": "stdout"
        }
      ]
    },
    {
      "cell_type": "markdown",
      "metadata": {
        "id": "lQDo5CcfKAJY"
      },
      "source": [
        "Мы использовали метрику полноты(Recall), точности(Precission) и метрику f1_score. Recall полноту всех найденных елементов. F1- среднее значение между полнотой и точностью. Precission - точность найденных значений."
      ]
    },
    {
      "cell_type": "code",
      "metadata": {
        "id": "AEHYYaJwJyJL"
      },
      "source": [
        ""
      ],
      "execution_count": null,
      "outputs": []
    }
  ]
}